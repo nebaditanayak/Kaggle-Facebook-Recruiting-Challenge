{
 "cells": [
  {
   "cell_type": "code",
   "execution_count": 114,
   "metadata": {
    "collapsed": true
   },
   "outputs": [],
   "source": [
    "#Make MongoDB connection\n",
    "from pymongo import MongoClient\n",
    "client = MongoClient('compute-0-11', 27017)\n",
    "\n",
    "db = client.FacebookChallenge_akar1\n",
    "collection1 = db.fb_hw\n",
    "collection2  = db.fb_hw_test\n",
    "contentsTrain = collection1.find().limit(1000)\n",
    "contentsTest = collection2.find().limit(1000)"
   ]
  },
  {
   "cell_type": "code",
   "execution_count": 115,
   "metadata": {},
   "outputs": [],
   "source": [
    "#Create spark connector\n",
    "from pyspark.sql import SparkSession\n",
    "from pyspark.sql.types import *\n",
    "from pyspark.sql import SQLContext\n",
    "from pyspark import SparkConf, SparkContext\n",
    "\n",
    "spark = SparkSession.builder \\\n",
    "        .appName(\"Facebook_nebaditn\") \\\n",
    "        .getOrCreate()\n",
    "\n",
    "sc = spark.sparkContext\n",
    "sqlContext = SQLContext(sc)"
   ]
  },
  {
   "cell_type": "code",
   "execution_count": 116,
   "metadata": {
    "collapsed": true
   },
   "outputs": [],
   "source": [
    "\n",
    "from bson import json_util, ObjectId\n",
    "import json\n",
    "rddSan1 = json.loads(json_util.dumps(contentsTrain))\n",
    "rddSan2 = json.loads(json_util.dumps(contentsTest))"
   ]
  },
  {
   "cell_type": "code",
   "execution_count": 117,
   "metadata": {
    "collapsed": true
   },
   "outputs": [],
   "source": [
    "#Generate RDD\n",
    "rddTrain = sc.parallelize(rddSan1)\n",
    "rddTest = sc.parallelize(rddSan2)"
   ]
  },
  {
   "cell_type": "code",
   "execution_count": 118,
   "metadata": {
    "collapsed": true
   },
   "outputs": [],
   "source": [
    "#Create schema to generate train and test dataframe\n",
    "schemaTrain = StructType([StructField(\"Body\", StringType(), True), \n",
    "                     StructField(\"Id\", IntegerType(), True), \n",
    "                     StructField(\"Tags\", StringType(), True),\n",
    "                     StructField(\"Title\", StringType(), True),\n",
    "                     StructField(\"_id\", StringType(), True)])\n",
    "schemaTest = StructType([StructField(\"Body\", StringType(), True), \n",
    "                     StructField(\"Id\", IntegerType(), True), \n",
    "                     StructField(\"Title\", StringType(), True),\n",
    "                     StructField(\"_id\", StringType(), True)])\n",
    "\n",
    "train = sqlContext.createDataFrame(rddTrain, schema=schemaTrain)\n",
    "test = sqlContext.createDataFrame(rddTest, schema=schemaTest)"
   ]
  },
  {
   "cell_type": "code",
   "execution_count": 119,
   "metadata": {},
   "outputs": [
    {
     "name": "stdout",
     "output_type": "stream",
     "text": [
      "+--------------------+---+--------------------+--------------------+--------------------+\n",
      "|                Body| Id|                Tags|               Title|                 _id|\n",
      "+--------------------+---+--------------------+--------------------+--------------------+\n",
      "|<p>I'd like to ch...|  1|php image-process...|How to check if a...|{$oid=5a047973393...|\n",
      "|<p>In my favorite...|  2|             firefox|How can I prevent...|{$oid=5a047973393...|\n",
      "|<p>This is probab...|  4|     c# url encoding|How do I replace ...|{$oid=5a047973393...|\n",
      "|<pre><code>functi...|  5|php api file-get-...|How to modify who...|{$oid=5a047973393...|\n",
      "|<p>I am using a m...|  6|proxy active-dire...|setting proxy in ...|{$oid=5a047973393...|\n",
      "|<p>My image is ca...|  7|           core-plot|How to draw barpl...|{$oid=5a047973393...|\n",
      "|<p>I've decided t...|  8|c# asp.net window...|How to fetch an X...|{$oid=5a047973393...|\n",
      "|<p>Do you know of...|  9|.net javascript c...|.NET library for ...|{$oid=5a047973393...|\n",
      "|<p>I'm using SQL ...| 10|sql variables par...|SQL Server : proc...|{$oid=5a047973393...|\n",
      "|<p>Some commercia...| 11|.net obfuscation ...|How do commercial...|{$oid=5a047973393...|\n",
      "|<p>how can I move...| 13|postfix migration...|Migrate from Mdae...|{$oid=5a047973393...|\n",
      "|<p>I am import ma...|  3|r matlab machine-...|R Error Invalid t...|{$oid=5a047973393...|\n",
      "|<p>This may sound...| 12|algorithm languag...|Crappy Random Num...|{$oid=5a047973393...|\n",
      "|<p>Few month ago ...| 14|documentation lat...|Where can I find ...|{$oid=5a047973393...|\n",
      "|<p>When you hit a...| 15|           windows-7|Can I stop window...|{$oid=5a047973393...|\n",
      "|<p>A lot of frame...| 16|php url-routing c...|PHP framework URL...|{$oid=5a047973393...|\n",
      "|<p>I'm running a ...| 17|   r temporary-files|What creates \".rd...|{$oid=5a047973393...|\n",
      "|<p>Hello<br>\n",
      "I'm ...| 18|         wpf binding|WPF: multiple con...|{$oid=5a047973393...|\n",
      "|<p>Does anyone kn...| 19|javascript code-g...|Play framework au...|{$oid=5a047973393...|\n",
      "|<p>=) I need your...| 20|php xml hash mult...|Creating a repeti...|{$oid=5a047973393...|\n",
      "+--------------------+---+--------------------+--------------------+--------------------+\n",
      "only showing top 20 rows\n",
      "\n",
      "+--------------------+-------+--------------------+--------------------+\n",
      "|                Body|     Id|               Title|                 _id|\n",
      "+--------------------+-------+--------------------+--------------------+\n",
      "|<p>How do I disab...|6034196|Getting rid of si...|{$oid=5a04827c393...|\n",
      "|<p>I've a gateway...|6034197|Nodes inside Cisc...|{$oid=5a04827c393...|\n",
      "|<p>After changing...|6034198|Remove old vCente...|{$oid=5a04827c393...|\n",
      "|<p>I have a varia...|6034199|Replace <span> el...|{$oid=5a04827c393...|\n",
      "|<p>Today i purcha...|6034200|Will PHP included...|{$oid=5a04827c393...|\n",
      "|<p>With the follo...|6034201|Where is the acro...|{$oid=5a04827c393...|\n",
      "|<p>I am looking f...|6034202|Iterating over th...|{$oid=5a04827c393...|\n",
      "|<p>I'm importing ...|6034203|URL Rewriting fro...|{$oid=5a04827c393...|\n",
      "|<p>How can I alph...|6034219|Alphabetised Word...|{$oid=5a04827c393...|\n",
      "|<p>I am working o...|6034204|Create Non-Cultur...|{$oid=5a04827c393...|\n",
      "|<p>Im using cocos...|6034205|cocos2d: Handelin...|{$oid=5a04827c393...|\n",
      "|<p>Are there stan...|6034206|Are there standar...|{$oid=5a04827c393...|\n",
      "|<p>I just compile...|6034207|Upgrade ScriptSha...|{$oid=5a04827c393...|\n",
      "|<p>How can I auto...|6034208|How can I auto-up...|{$oid=5a04827c393...|\n",
      "|<p>I have 3 table...|6034209|how to delete fro...|{$oid=5a04827c393...|\n",
      "|<p>Suppose, I hav...|6034210|Get number of ele...|{$oid=5a04827c393...|\n",
      "|<p>I would like a...|6034211|can XInclude be u...|{$oid=5a04827c393...|\n",
      "|<p>I have my two ...|6034212|Printing from a P...|{$oid=5a04827c393...|\n",
      "|<p>We have a webs...|6034213|How can I set the...|{$oid=5a04827c393...|\n",
      "|<p>I have two cla...|6034214|Nesting CriteriaB...|{$oid=5a04827c393...|\n",
      "+--------------------+-------+--------------------+--------------------+\n",
      "only showing top 20 rows\n",
      "\n"
     ]
    }
   ],
   "source": [
    "#Print and check the data\n",
    "train.show()\n",
    "test.show()"
   ]
  },
  {
   "cell_type": "code",
   "execution_count": 120,
   "metadata": {
    "collapsed": true
   },
   "outputs": [],
   "source": [
    "# Remove HTML Tags from the Body text\n",
    "#Here I have used a library beautiful soup to remove the HTML tags from the body section in train and test\n",
    "from bs4 import BeautifulSoup\n",
    "from pyspark.sql.functions import udf\n",
    "from pyspark.sql.types import *\n",
    "\n",
    "train = train.rdd.map(lambda x: (x[0], x[1], x[2], x[3], x[4], BeautifulSoup(x[0]).text))\n",
    "train = train.toDF()\n",
    "test = test.rdd.map(lambda x: (x[0], x[1], x[2], x[3], BeautifulSoup(x[0]).text))\n",
    "test =  test.toDF()"
   ]
  },
  {
   "cell_type": "code",
   "execution_count": 121,
   "metadata": {},
   "outputs": [
    {
     "name": "stdout",
     "output_type": "stream",
     "text": [
      "+--------------------+---+--------------------+--------------------+--------------------+--------------------+\n",
      "|                  _1| _2|                  _3|                  _4|                  _5|                  _6|\n",
      "+--------------------+---+--------------------+--------------------+--------------------+--------------------+\n",
      "|<p>I'd like to ch...|  1|php image-process...|How to check if a...|{$oid=5a047973393...|I'd like to check...|\n",
      "|<p>In my favorite...|  2|             firefox|How can I prevent...|{$oid=5a047973393...|In my favorite ed...|\n",
      "|<p>This is probab...|  4|     c# url encoding|How do I replace ...|{$oid=5a047973393...|This is probably ...|\n",
      "|<pre><code>functi...|  5|php api file-get-...|How to modify who...|{$oid=5a047973393...|function modify(....|\n",
      "|<p>I am using a m...|  6|proxy active-dire...|setting proxy in ...|{$oid=5a047973393...|I am using a mach...|\n",
      "|<p>My image is ca...|  7|           core-plot|How to draw barpl...|{$oid=5a047973393...|My image is canno...|\n",
      "|<p>I've decided t...|  8|c# asp.net window...|How to fetch an X...|{$oid=5a047973393...|I've decided to c...|\n",
      "|<p>Do you know of...|  9|.net javascript c...|.NET library for ...|{$oid=5a047973393...|Do you know of a ...|\n",
      "|<p>I'm using SQL ...| 10|sql variables par...|SQL Server : proc...|{$oid=5a047973393...|I'm using SQL Ser...|\n",
      "|<p>Some commercia...| 11|.net obfuscation ...|How do commercial...|{$oid=5a047973393...|Some commercial o...|\n",
      "|<p>how can I move...| 13|postfix migration...|Migrate from Mdae...|{$oid=5a047973393...|how can I move In...|\n",
      "|<p>I am import ma...|  3|r matlab machine-...|R Error Invalid t...|{$oid=5a047973393...|I am import matla...|\n",
      "|<p>This may sound...| 12|algorithm languag...|Crappy Random Num...|{$oid=5a047973393...|This may sound li...|\n",
      "|<p>Few month ago ...| 14|documentation lat...|Where can I find ...|{$oid=5a047973393...|Few month ago I s...|\n",
      "|<p>When you hit a...| 15|           windows-7|Can I stop window...|{$oid=5a047973393...|When you hit alt ...|\n",
      "|<p>A lot of frame...| 16|php url-routing c...|PHP framework URL...|{$oid=5a047973393...|A lot of framewor...|\n",
      "|<p>I'm running a ...| 17|   r temporary-files|What creates \".rd...|{$oid=5a047973393...|I'm running a ser...|\n",
      "|<p>Hello<br>\n",
      "I'm ...| 18|         wpf binding|WPF: multiple con...|{$oid=5a047973393...|Hello\n",
      "I'm trying ...|\n",
      "|<p>Does anyone kn...| 19|javascript code-g...|Play framework au...|{$oid=5a047973393...|Does anyone know ...|\n",
      "|<p>=) I need your...| 20|php xml hash mult...|Creating a repeti...|{$oid=5a047973393...|=) I need your ki...|\n",
      "+--------------------+---+--------------------+--------------------+--------------------+--------------------+\n",
      "only showing top 20 rows\n",
      "\n",
      "+--------------------+-------+--------------------+--------------------+--------------------+\n",
      "|                  _1|     _2|                  _3|                  _4|                  _5|\n",
      "+--------------------+-------+--------------------+--------------------+--------------------+\n",
      "|<p>How do I disab...|6034196|Getting rid of si...|{$oid=5a04827c393...|How do I disable ...|\n",
      "|<p>I've a gateway...|6034197|Nodes inside Cisc...|{$oid=5a04827c393...|I've a gateway-to...|\n",
      "|<p>After changing...|6034198|Remove old vCente...|{$oid=5a04827c393...|After changing ou...|\n",
      "|<p>I have a varia...|6034199|Replace <span> el...|{$oid=5a04827c393...|I have a variable...|\n",
      "|<p>Today i purcha...|6034200|Will PHP included...|{$oid=5a04827c393...|Today i purchase ...|\n",
      "|<p>With the follo...|6034201|Where is the acro...|{$oid=5a04827c393...|With the followin...|\n",
      "|<p>I am looking f...|6034202|Iterating over th...|{$oid=5a04827c393...|I am looking for ...|\n",
      "|<p>I'm importing ...|6034203|URL Rewriting fro...|{$oid=5a04827c393...|I'm importing cla...|\n",
      "|<p>How can I alph...|6034219|Alphabetised Word...|{$oid=5a04827c393...|How can I alphabe...|\n",
      "|<p>I am working o...|6034204|Create Non-Cultur...|{$oid=5a04827c393...|I am working on a...|\n",
      "|<p>Im using cocos...|6034205|cocos2d: Handelin...|{$oid=5a04827c393...|Im using cocos2d-...|\n",
      "|<p>Are there stan...|6034206|Are there standar...|{$oid=5a04827c393...|Are there standar...|\n",
      "|<p>I just compile...|6034207|Upgrade ScriptSha...|{$oid=5a04827c393...|I just compiled t...|\n",
      "|<p>How can I auto...|6034208|How can I auto-up...|{$oid=5a04827c393...|How can I automat...|\n",
      "|<p>I have 3 table...|6034209|how to delete fro...|{$oid=5a04827c393...|I have 3 tables:\n",
      "...|\n",
      "|<p>Suppose, I hav...|6034210|Get number of ele...|{$oid=5a04827c393...|Suppose, I have t...|\n",
      "|<p>I would like a...|6034211|can XInclude be u...|{$oid=5a04827c393...|I would like a po...|\n",
      "|<p>I have my two ...|6034212|Printing from a P...|{$oid=5a04827c393...|I have my two Win...|\n",
      "|<p>We have a webs...|6034213|How can I set the...|{$oid=5a04827c393...|We have a website...|\n",
      "|<p>I have two cla...|6034214|Nesting CriteriaB...|{$oid=5a04827c393...|I have two classe...|\n",
      "+--------------------+-------+--------------------+--------------------+--------------------+\n",
      "only showing top 20 rows\n",
      "\n"
     ]
    }
   ],
   "source": [
    "#Check the new dataframe \n",
    "train.show()\n",
    "test.show()"
   ]
  },
  {
   "cell_type": "code",
   "execution_count": 122,
   "metadata": {
    "collapsed": true
   },
   "outputs": [],
   "source": [
    "#Filter columns from the data frame\n",
    "workingTrain = train.selectExpr(\"_2 as ID\", \"_6 as Body\", \"_3 as Tags\", \"_4 as Title\")\n",
    "workingTest = test.selectExpr(\"_2 as ID\", \"_5 as Body\", \"_3 as Title\")"
   ]
  },
  {
   "cell_type": "code",
   "execution_count": 123,
   "metadata": {},
   "outputs": [
    {
     "name": "stdout",
     "output_type": "stream",
     "text": [
      "+---+--------------------+--------------------+--------------------+\n",
      "| ID|                Body|                Tags|               Title|\n",
      "+---+--------------------+--------------------+--------------------+\n",
      "|  1|I'd like to check...|php image-process...|How to check if a...|\n",
      "|  2|In my favorite ed...|             firefox|How can I prevent...|\n",
      "|  4|This is probably ...|     c# url encoding|How do I replace ...|\n",
      "|  5|function modify(....|php api file-get-...|How to modify who...|\n",
      "|  6|I am using a mach...|proxy active-dire...|setting proxy in ...|\n",
      "|  7|My image is canno...|           core-plot|How to draw barpl...|\n",
      "|  8|I've decided to c...|c# asp.net window...|How to fetch an X...|\n",
      "|  9|Do you know of a ...|.net javascript c...|.NET library for ...|\n",
      "| 10|I'm using SQL Ser...|sql variables par...|SQL Server : proc...|\n",
      "| 11|Some commercial o...|.net obfuscation ...|How do commercial...|\n",
      "| 13|how can I move In...|postfix migration...|Migrate from Mdae...|\n",
      "|  3|I am import matla...|r matlab machine-...|R Error Invalid t...|\n",
      "| 12|This may sound li...|algorithm languag...|Crappy Random Num...|\n",
      "| 14|Few month ago I s...|documentation lat...|Where can I find ...|\n",
      "| 15|When you hit alt ...|           windows-7|Can I stop window...|\n",
      "| 16|A lot of framewor...|php url-routing c...|PHP framework URL...|\n",
      "| 17|I'm running a ser...|   r temporary-files|What creates \".rd...|\n",
      "| 18|Hello\n",
      "I'm trying ...|         wpf binding|WPF: multiple con...|\n",
      "| 19|Does anyone know ...|javascript code-g...|Play framework au...|\n",
      "| 20|=) I need your ki...|php xml hash mult...|Creating a repeti...|\n",
      "+---+--------------------+--------------------+--------------------+\n",
      "only showing top 20 rows\n",
      "\n",
      "+-------+--------------------+--------------------+\n",
      "|     ID|                Body|               Title|\n",
      "+-------+--------------------+--------------------+\n",
      "|6034196|How do I disable ...|Getting rid of si...|\n",
      "|6034197|I've a gateway-to...|Nodes inside Cisc...|\n",
      "|6034198|After changing ou...|Remove old vCente...|\n",
      "|6034199|I have a variable...|Replace <span> el...|\n",
      "|6034200|Today i purchase ...|Will PHP included...|\n",
      "|6034201|With the followin...|Where is the acro...|\n",
      "|6034202|I am looking for ...|Iterating over th...|\n",
      "|6034203|I'm importing cla...|URL Rewriting fro...|\n",
      "|6034219|How can I alphabe...|Alphabetised Word...|\n",
      "|6034204|I am working on a...|Create Non-Cultur...|\n",
      "|6034205|Im using cocos2d-...|cocos2d: Handelin...|\n",
      "|6034206|Are there standar...|Are there standar...|\n",
      "|6034207|I just compiled t...|Upgrade ScriptSha...|\n",
      "|6034208|How can I automat...|How can I auto-up...|\n",
      "|6034209|I have 3 tables:\n",
      "...|how to delete fro...|\n",
      "|6034210|Suppose, I have t...|Get number of ele...|\n",
      "|6034211|I would like a po...|can XInclude be u...|\n",
      "|6034212|I have my two Win...|Printing from a P...|\n",
      "|6034213|We have a website...|How can I set the...|\n",
      "|6034214|I have two classe...|Nesting CriteriaB...|\n",
      "+-------+--------------------+--------------------+\n",
      "only showing top 20 rows\n",
      "\n"
     ]
    }
   ],
   "source": [
    "#Again check the data frame\n",
    "workingTrain.show()\n",
    "workingTest.show()"
   ]
  },
  {
   "cell_type": "code",
   "execution_count": 125,
   "metadata": {
    "collapsed": true
   },
   "outputs": [],
   "source": [
    "#Select particular columns\n",
    "workingTrain = workingTrain.selectExpr(\"ID\",\"Body\", \"Title\", \"Tags\")\n",
    "workingTest = workingTest.selectExpr(\"ID\", \"Title\", \"Body\")"
   ]
  },
  {
   "cell_type": "code",
   "execution_count": 126,
   "metadata": {
    "collapsed": true
   },
   "outputs": [],
   "source": [
    "#UDF to concatenate two columns\n",
    "import pyspark.sql.functions as F\n",
    "from pyspark.sql.types import *\n",
    "concat_udf = F.udf(lambda cols: \"\".join([x if x is not None else \"*\" for x in cols]), StringType())"
   ]
  },
  {
   "cell_type": "code",
   "execution_count": 127,
   "metadata": {},
   "outputs": [],
   "source": [
    " #Merge the title and the body tokenized column\n",
    "    \n",
    "workingTrain = workingTrain.withColumn(\"features\", concat_udf(F.array(\"Title\", \"Body\")))\n"
   ]
  },
  {
   "cell_type": "code",
   "execution_count": 128,
   "metadata": {},
   "outputs": [
    {
     "name": "stdout",
     "output_type": "stream",
     "text": [
      "+---+--------------------+--------------------+--------------------+--------------------+\n",
      "| ID|                Body|               Title|                Tags|            features|\n",
      "+---+--------------------+--------------------+--------------------+--------------------+\n",
      "|  1|I'd like to check...|How to check if a...|php image-process...|How to check if a...|\n",
      "|  2|In my favorite ed...|How can I prevent...|             firefox|How can I prevent...|\n",
      "|  4|This is probably ...|How do I replace ...|     c# url encoding|How do I replace ...|\n",
      "|  5|function modify(....|How to modify who...|php api file-get-...|How to modify who...|\n",
      "|  6|I am using a mach...|setting proxy in ...|proxy active-dire...|setting proxy in ...|\n",
      "|  7|My image is canno...|How to draw barpl...|           core-plot|How to draw barpl...|\n",
      "|  8|I've decided to c...|How to fetch an X...|c# asp.net window...|How to fetch an X...|\n",
      "|  9|Do you know of a ...|.NET library for ...|.net javascript c...|.NET library for ...|\n",
      "| 10|I'm using SQL Ser...|SQL Server : proc...|sql variables par...|SQL Server : proc...|\n",
      "| 11|Some commercial o...|How do commercial...|.net obfuscation ...|How do commercial...|\n",
      "| 13|how can I move In...|Migrate from Mdae...|postfix migration...|Migrate from Mdae...|\n",
      "|  3|I am import matla...|R Error Invalid t...|r matlab machine-...|R Error Invalid t...|\n",
      "| 12|This may sound li...|Crappy Random Num...|algorithm languag...|Crappy Random Num...|\n",
      "| 14|Few month ago I s...|Where can I find ...|documentation lat...|Where can I find ...|\n",
      "| 15|When you hit alt ...|Can I stop window...|           windows-7|Can I stop window...|\n",
      "| 16|A lot of framewor...|PHP framework URL...|php url-routing c...|PHP framework URL...|\n",
      "| 17|I'm running a ser...|What creates \".rd...|   r temporary-files|What creates \".rd...|\n",
      "| 18|Hello\n",
      "I'm trying ...|WPF: multiple con...|         wpf binding|WPF: multiple con...|\n",
      "| 19|Does anyone know ...|Play framework au...|javascript code-g...|Play framework au...|\n",
      "| 20|=) I need your ki...|Creating a repeti...|php xml hash mult...|Creating a repeti...|\n",
      "+---+--------------------+--------------------+--------------------+--------------------+\n",
      "only showing top 20 rows\n",
      "\n"
     ]
    }
   ],
   "source": [
    "workingTrain.show()"
   ]
  },
  {
   "cell_type": "code",
   "execution_count": 129,
   "metadata": {
    "collapsed": true
   },
   "outputs": [],
   "source": [
    "#Remove the stop words from the body\n",
    "from pyspark.ml.feature import StopWordsRemover\n",
    "from pyspark.ml.feature import Tokenizer, RegexTokenizer\n",
    "from pyspark.sql.functions import col, udf\n",
    "from pyspark.sql.types import IntegerType\n",
    "#Tokenize the body column\n",
    "tokenizer = Tokenizer(inputCol = \"features\" , outputCol = \"tokenizedfeatures\")\n",
    "workingTrain = tokenizer.transform(workingTrain) # For the train data\n"
   ]
  },
  {
   "cell_type": "code",
   "execution_count": 130,
   "metadata": {},
   "outputs": [
    {
     "name": "stdout",
     "output_type": "stream",
     "text": [
      "+---+--------------------+--------------------+--------------------+--------------------+--------------------+\n",
      "| ID|                Body|               Title|                Tags|            features|   tokenizedfeatures|\n",
      "+---+--------------------+--------------------+--------------------+--------------------+--------------------+\n",
      "|  1|I'd like to check...|How to check if a...|php image-process...|How to check if a...|[how, to, check, ...|\n",
      "|  2|In my favorite ed...|How can I prevent...|             firefox|How can I prevent...|[how, can, i, pre...|\n",
      "|  4|This is probably ...|How do I replace ...|     c# url encoding|How do I replace ...|[how, do, i, repl...|\n",
      "|  5|function modify(....|How to modify who...|php api file-get-...|How to modify who...|[how, to, modify,...|\n",
      "|  6|I am using a mach...|setting proxy in ...|proxy active-dire...|setting proxy in ...|[setting, proxy, ...|\n",
      "|  7|My image is canno...|How to draw barpl...|           core-plot|How to draw barpl...|[how, to, draw, b...|\n",
      "|  8|I've decided to c...|How to fetch an X...|c# asp.net window...|How to fetch an X...|[how, to, fetch, ...|\n",
      "|  9|Do you know of a ...|.NET library for ...|.net javascript c...|.NET library for ...|[.net, library, f...|\n",
      "| 10|I'm using SQL Ser...|SQL Server : proc...|sql variables par...|SQL Server : proc...|[sql, server, :, ...|\n",
      "| 11|Some commercial o...|How do commercial...|.net obfuscation ...|How do commercial...|[how, do, commerc...|\n",
      "| 13|how can I move In...|Migrate from Mdae...|postfix migration...|Migrate from Mdae...|[migrate, from, m...|\n",
      "|  3|I am import matla...|R Error Invalid t...|r matlab machine-...|R Error Invalid t...|[r, error, invali...|\n",
      "| 12|This may sound li...|Crappy Random Num...|algorithm languag...|Crappy Random Num...|[crappy, random, ...|\n",
      "| 14|Few month ago I s...|Where can I find ...|documentation lat...|Where can I find ...|[where, can, i, f...|\n",
      "| 15|When you hit alt ...|Can I stop window...|           windows-7|Can I stop window...|[can, i, stop, wi...|\n",
      "| 16|A lot of framewor...|PHP framework URL...|php url-routing c...|PHP framework URL...|[php, framework, ...|\n",
      "| 17|I'm running a ser...|What creates \".rd...|   r temporary-files|What creates \".rd...|[what, creates, \"...|\n",
      "| 18|Hello\n",
      "I'm trying ...|WPF: multiple con...|         wpf binding|WPF: multiple con...|[wpf:, multiple, ...|\n",
      "| 19|Does anyone know ...|Play framework au...|javascript code-g...|Play framework au...|[play, framework,...|\n",
      "| 20|=) I need your ki...|Creating a repeti...|php xml hash mult...|Creating a repeti...|[creating, a, rep...|\n",
      "+---+--------------------+--------------------+--------------------+--------------------+--------------------+\n",
      "only showing top 20 rows\n",
      "\n"
     ]
    }
   ],
   "source": [
    "workingTrain.show()"
   ]
  },
  {
   "cell_type": "code",
   "execution_count": 131,
   "metadata": {
    "collapsed": true
   },
   "outputs": [],
   "source": [
    "#Tokenize the Tags\n",
    "tagTokenizer = Tokenizer(inputCol=\"Tags\", outputCol=\"tokenizedTags\")\n",
    "workingTrain = tagTokenizer.transform(workingTrain)\n",
    "#workingTrain.show()"
   ]
  },
  {
   "cell_type": "code",
   "execution_count": 132,
   "metadata": {
    "collapsed": true
   },
   "outputs": [],
   "source": [
    "#Remove stop words from the Tokenized title\n",
    "stopWordRemover = StopWordsRemover(inputCol = \"tokenizedfeatures\", outputCol = \"filteredFeatures\")\n",
    "workingTrain = stopWordRemover.transform(workingTrain) #For Train data"
   ]
  },
  {
   "cell_type": "code",
   "execution_count": 133,
   "metadata": {
    "collapsed": true
   },
   "outputs": [],
   "source": [
    "workingTrain = workingTrain.selectExpr(\"ID\",\"filteredFeatures as features\",\"tokenizedTags\")\n"
   ]
  },
  {
   "cell_type": "code",
   "execution_count": 134,
   "metadata": {
    "collapsed": true
   },
   "outputs": [],
   "source": [
    "#In thi step we are going to set count vectorizer the features\n",
    "from pyspark.ml.feature import CountVectorizer\n",
    "cvFeatures = CountVectorizer(inputCol = \"features\", outputCol=\"vectorizedFeatures\" )\n",
    "cvModel = cvFeatures.fit(workingTrain)\n",
    "workingTrain = cvModel.transform(workingTrain)"
   ]
  },
  {
   "cell_type": "code",
   "execution_count": 135,
   "metadata": {
    "collapsed": true
   },
   "outputs": [],
   "source": [
    "cvTag = CountVectorizer(inputCol = \"tokenizedTags\", outputCol=\"vectorizedTags\" )\n",
    "cvModelTag = cvTag.fit(workingTrain)\n",
    "workingTrain = cvModelTag.transform(workingTrain)"
   ]
  },
  {
   "cell_type": "code",
   "execution_count": 137,
   "metadata": {},
   "outputs": [],
   "source": [
    "workingTrain = workingTrain.selectExpr(\"ID\", \"vectorizedFeatures\", \"vectorizedTags\" )"
   ]
  },
  {
   "cell_type": "code",
   "execution_count": 138,
   "metadata": {},
   "outputs": [],
   "source": [
    "from pyspark.sql import SQLContext, Row\n",
    "from pyspark.ml.feature import CountVectorizer\n",
    "from pyspark.mllib.clustering import LDA, LDAModel\n",
    "from pyspark.mllib.linalg import Vector, Vectors\n",
    "\n",
    "workingTrain2 = workingTrain.selectExpr(\"ID\",\"vectorizedFeatures\",\"vectorizedTags\")\n",
    "#workingTrain2.show()\n",
    "corpus = workingTrain2.select(\"ID\", \"vectorizedFeatures\").rdd.map(lambda (x,y): [x,Vectors.fromML(y)]).cache()"
   ]
  },
  {
   "cell_type": "code",
   "execution_count": 139,
   "metadata": {
    "collapsed": true
   },
   "outputs": [],
   "source": [
    "# Cluster the documents into three topics using LDA\n",
    "ldaModel1 = LDA.train(corpus, k=10,maxIterations=100,optimizer='online')"
   ]
  },
  {
   "cell_type": "code",
   "execution_count": 140,
   "metadata": {
    "collapsed": true
   },
   "outputs": [],
   "source": [
    "topics = ldaModel1.topicsMatrix()\n",
    "vocabArray = cvModel.vocabulary"
   ]
  },
  {
   "cell_type": "code",
   "execution_count": 141,
   "metadata": {
    "collapsed": true
   },
   "outputs": [],
   "source": [
    "wordNumbers = 20  # number of words per topic"
   ]
  },
  {
   "cell_type": "code",
   "execution_count": 142,
   "metadata": {
    "collapsed": true
   },
   "outputs": [],
   "source": [
    "topicIndices = sc.parallelize(ldaModel1.describeTopics(maxTermsPerTopic = wordNumbers))"
   ]
  },
  {
   "cell_type": "code",
   "execution_count": 143,
   "metadata": {
    "collapsed": true
   },
   "outputs": [],
   "source": [
    "#Ref: https://stackoverflow.com/questions/42051184/latent-dirichlet-allocation-lda-in-spark\n",
    "\n",
    "def topic_render(topic):  # specify vector id of words to actual words\n",
    "    terms = topic[0]\n",
    "    result = []\n",
    "    for i in range(wordNumbers):\n",
    "        term = vocabArray[terms[i]]\n",
    "        result.append(term)\n",
    "    return result"
   ]
  },
  {
   "cell_type": "code",
   "execution_count": 144,
   "metadata": {},
   "outputs": [],
   "source": [
    "topics_final = topicIndices.map(lambda topic: topic_render(topic)).collect()"
   ]
  },
  {
   "cell_type": "code",
   "execution_count": 145,
   "metadata": {},
   "outputs": [
    {
     "name": "stdout",
     "output_type": "stream",
     "text": [
      "Topic0:\n",
      "link\n",
      "tb\n",
      "english\n",
      "page\n",
      "template\n",
      "signature\n",
      "{%\n",
      "%}\n",
      "~\n",
      "time:\n",
      "ob_flush()\n",
      "bgrp\n",
      "r-squared:\n",
      "621\n",
      "psex\n",
      "language\n",
      "lm(formula\n",
      "2e-16\n",
      "mydat)\n",
      "bgrp2\n",
      "\n",
      "\n",
      "Topic1:\n",
      "trait\n",
      "cancer\n",
      "<video>myvideo.avi</video>\n",
      "<photo>myphoto.avi</video>\n",
      "treatment\n",
      "\\int\n",
      "nvarchar(1000)\n",
      "myvideo.avi\n",
      "<video\n",
      "201204271113\n",
      "<photo\n",
      "getenv\n",
      "setenv\n",
      "(x86)\\microsoft\n",
      "_putenv\n",
      "%hello%\n",
      "dataaccess\n",
      "distinct\n",
      "dumb\n",
      "terminals\n",
      "\n",
      "\n",
      "Topic2:\n",
      "values\n",
      "search\n",
      "find\n",
      "points\n",
      "point\n",
      "three\n",
      "take\n",
      "tables\n",
      "words\n",
      "=\n",
      "like\n",
      "right\n",
      "plot\n",
      "x\n",
      "question\n",
      "fields\n",
      "difference\n",
      "main02\n",
      "select\n",
      "want\n",
      "\n",
      "\n",
      "Topic3:\n",
      "*)\n",
      "daemon\n",
      "2px\n",
      "inspect\n",
      "(nsstring\n",
      "rails\n",
      "jquery\n",
      "<object>\n",
      "ip\n",
      "#333333;\n",
      "background:\n",
      "javascript\n",
      "xslt\n",
      "(nsmutableurlrequest\n",
      "programmers\n",
      "works\n",
      "[ret\n",
      "kerberos\n",
      "video'\n",
      "xhtml\n",
      "\n",
      "\n",
      "Topic4:\n",
      "\"2.1.*\",\n",
      "ctypes.create_unicode_buffer(1024)\n",
      "mongomapper\n",
      "_\n",
      "window.onload\n",
      "netmask\n",
      "[email]\n",
      "outside_inbound\n",
      "ami\n",
      "generate\n",
      "access-list\n",
      "often\n",
      "hoursleft\n",
      "datepicker\n",
      "60)\n",
      "html.actionlink(\"click\n",
      "\"home\",\n",
      "\"controller\",\n",
      "\"stayhomefunc()\"})%></div>\n",
      "me\",\n",
      "\n",
      "\n",
      "Topic5:\n",
      "\n",
      "=\n",
      "-\n",
      "{\n",
      "}\n",
      "5th\n",
      "using\n",
      "0\n",
      "*\n",
      "like\n",
      "new\n",
      "use\n",
      "+\n",
      "get\n",
      "want\n",
      "code\n",
      "//\n",
      "public\n",
      "one\n",
      "file\n",
      "\n",
      "\n",
      "Topic6:\n",
      "iboutlet\n",
      "<rtept\n",
      "python\n",
      "widget\n",
      "@property\n",
      "hour\n",
      "pointer\n",
      "migrate\n",
      "sector\n",
      "(rcs-revision\n",
      "roll\n",
      "backups\n",
      "backups.\n",
      "daily.\n",
      "backed\n",
      "deleted.\n",
      "myclass\n",
      "nonatomic)\n",
      "(strong,\n",
      "v2.10\n",
      "\n",
      "\n",
      "Topic7:\n",
      "nc\n",
      "beta\n",
      "$\n",
      "ajaxoptions\n",
      "silverlight.\n",
      "\"run\n",
      "%p\",\n",
      "expired\n",
      "php-cgi\n",
      "netcat\n",
      "makefile\n",
      "/usr/bin/php-cgi\n",
      "aug12\n",
      "ivalidator\n",
      "iroleservice\n",
      "uservalidator)\n",
      "iuserservice\n",
      ".lifestyletransient());\n",
      "www-data\n",
      "windsorcontainer.register(component.for<ivalidator>()\n",
      "\n",
      "\n",
      "Topic8:\n",
      "2012-06-13t08:01:08+00:00\n",
      "app[web.1]:\n",
      "std::string\n",
      "`call'\n",
      "double\n",
      "const\n",
      "software\n",
      "diff\n",
      "boost::regex\n",
      "(m\n",
      "threadstacksize\n",
      "backslash\n",
      "messagebox((hwnd)window,\n",
      "temp.c_str(),\n",
      "mb_ok);\n",
      "02\n",
      "range\n",
      "06\n",
      "$string\n",
      "operating\n",
      "\n",
      "\n",
      "Topic9:\n",
      "install\n",
      "-s\n",
      "eq\n",
      "toy\n",
      "segmentation\n",
      "console.writeline(\"gen\n",
      "gc.getgeneration(o));\n",
      "james.id\n",
      "composer\n",
      "landscape\n",
      "macports\n",
      "apache\n",
      "-d:thedb\n",
      "dbo.myprocedure\n",
      "exec\n",
      "poi\n",
      "bundles\n",
      "mode\n",
      "enterprise\n",
      "mex\n",
      "\n",
      "\n"
     ]
    }
   ],
   "source": [
    "for topic in range(len(topics_final)):\n",
    "    print (\"Topic\" + str(topic) + \":\")\n",
    "    for term in topics_final[topic]:\n",
    "        print (term)\n",
    "    print ('\\n')"
   ]
  },
  {
   "cell_type": "code",
   "execution_count": 154,
   "metadata": {},
   "outputs": [],
   "source": [
    "#Since the LDA model mllib doesnt have the transform function, I used the function in ml library to get the probabilities of each post falling into a particular cluster.\n",
    "from pyspark.ml.clustering import LDA\n",
    "# Trains a LDA model.\n",
    "\n",
    "workingTrain3 = workingTrain2.selectExpr(\"ID\", \"vectorizedFeatures as features\")\n",
    "lda = LDA(k=10, maxIter=100)\n",
    "ldamodel = lda.fit(workingTrain3)"
   ]
  },
  {
   "cell_type": "code",
   "execution_count": 156,
   "metadata": {},
   "outputs": [
    {
     "name": "stdout",
     "output_type": "stream",
     "text": [
      "+---+--------------------+--------------------+\n",
      "| ID|            features|   topicDistribution|\n",
      "+---+--------------------+--------------------+\n",
      "|  1|(27621,[4,7,18,19...|[8.39845281648305...|\n",
      "|  2|(27621,[9,19,108,...|[9.99527316135934...|\n",
      "|  4|(27621,[0,11,33,3...|[0.00110453103969...|\n",
      "|  5|(27621,[0,1,2,3,4...|[6.17781095531005...|\n",
      "|  6|(27621,[4,10,11,3...|[0.00113432213339...|\n",
      "|  7|(27621,[0,6,7,9,1...|[7.92374833570028...|\n",
      "|  8|(27621,[0,1,4,7,1...|[5.12403788145105...|\n",
      "|  9|(27621,[0,5,7,11,...|[7.63600901254004...|\n",
      "| 10|(27621,[0,4,7,14,...|[9.76323442064911...|\n",
      "| 11|(27621,[13,19,39,...|[6.56346689174020...|\n",
      "| 13|(27621,[0,471,121...|[0.00379707879667...|\n",
      "|  3|(27621,[0,1,2,3,5...|[1.33001211295862...|\n",
      "| 12|(27621,[0,4,5,7,1...|[5.38655366952220...|\n",
      "| 14|(27621,[0,8,39,71...|[0.00199545597088...|\n",
      "| 15|(27621,[0,9,19,70...|[0.00161283112608...|\n",
      "| 16|(27621,[0,2,3,7,9...|[1.82791834090642...|\n",
      "| 17|(27621,[0,7,35,40...|[3.36427515168108...|\n",
      "| 18|(27621,[0,2,3,4,8...|[1.66838620571436...|\n",
      "| 19|(27621,[0,1,3,13,...|[7.24155908406630...|\n",
      "| 20|(27621,[0,1,2,3,4...|[1.84394737768514...|\n",
      "+---+--------------------+--------------------+\n",
      "only showing top 20 rows\n",
      "\n"
     ]
    }
   ],
   "source": [
    "# Shows the result\n",
    "transformed = ldamodel.transform(workingTrain3)\n",
    "transformed.show()"
   ]
  },
  {
   "cell_type": "code",
   "execution_count": 157,
   "metadata": {},
   "outputs": [
    {
     "name": "stdout",
     "output_type": "stream",
     "text": [
      "The lower bound on the log likelihood of the entire corpus: -968768.630328\n",
      "The upper bound on perplexity: 6.18097305203\n"
     ]
    }
   ],
   "source": [
    "ll = ldamodel.logLikelihood(workingTrain3)\n",
    "lp = ldamodel.logPerplexity(workingTrain3)\n",
    "print(\"The lower bound on the log likelihood of the entire corpus: \" + str(ll))\n",
    "print(\"The upper bound on perplexity: \" + str(lp))"
   ]
  },
  {
   "cell_type": "code",
   "execution_count": 160,
   "metadata": {},
   "outputs": [
    {
     "name": "stdout",
     "output_type": "stream",
     "text": [
      "Within Set Sum of Squared Errors = 16168184.4355\n",
      "Cluster Centers: \n",
      "[  3.49036269e+01   1.15336788e+00   6.60103627e-01 ...,   0.00000000e+00\n",
      "   0.00000000e+00   1.03626943e-03]\n",
      "[  9.28771429e+02   1.14857143e+01   1.14000000e+01 ...,   2.85714286e-02\n",
      "   2.85714286e-02   0.00000000e+00]\n"
     ]
    }
   ],
   "source": [
    "#Ref: https://spark.apache.org/docs/2.2.0/ml-clustering.html#latent-dirichlet-allocation-lda\n",
    "\n",
    "#Similarly, we can perform topic modelling using other algorithms like K-means\n",
    "from pyspark.ml.clustering import KMeans\n",
    "\n",
    "#Get a fresh copy of dataset\n",
    "workingTrain4 = workingTrain2.selectExpr(\"ID\", \"vectorizedFeatures as features\")\n",
    "\n",
    "# Trains a k-means model.\n",
    "kmeans = KMeans().setK(2).setSeed(1)\n",
    "kmeansModel = kmeans.fit(workingTrain4)\n",
    "\n",
    "# Evaluate clustering by computing Within Set Sum of Squared Errors.\n",
    "wssse = kmeansModel.computeCost(workingTrain4)\n",
    "print(\"Within Set Sum of Squared Errors = \" + str(wssse))\n",
    "\n",
    "# Shows the result.\n",
    "centers = kmeansModel.clusterCenters()\n",
    "print(\"Cluster Centers: \")\n",
    "for center in centers:\n",
    "    print(center)"
   ]
  },
  {
   "cell_type": "code",
   "execution_count": 164,
   "metadata": {},
   "outputs": [],
   "source": [
    "#COmmented the below model as GMM   experiencing out of Memory issues.\n",
    "\n",
    "#Similarly, we can perform topic modelling using other algorithms GaussianMixture with random initialization\n",
    "from pyspark.ml.clustering import GaussianMixture\n",
    "\n",
    "#Get a fresh copy of dataset\n",
    "#workingTrain5 = workingTrain2.selectExpr(\"ID\", \"vectorizedFeatures as features\")\n",
    "\n",
    "#gmm = GaussianMixture().setK(2).setSeed(538009467)\n",
    "#gmmModel = gmm.fit(workingTrain5)\n",
    "\n",
    "#print(\"Gaussians shown as a DataFrame: \")\n",
    "#gmmModel.gaussiansDF.show(truncate=False)"
   ]
  }
 ],
 "metadata": {
  "kernelspec": {
   "display_name": "Python 2",
   "language": "python",
   "name": "python2"
  },
  "language_info": {
   "codemirror_mode": {
    "name": "ipython",
    "version": 2
   },
   "file_extension": ".py",
   "mimetype": "text/x-python",
   "name": "python",
   "nbconvert_exporter": "python",
   "pygments_lexer": "ipython2",
   "version": "2.7.13"
  }
 },
 "nbformat": 4,
 "nbformat_minor": 2
}
